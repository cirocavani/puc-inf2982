{
 "cells": [
  {
   "cell_type": "markdown",
   "metadata": {},
   "source": [
    "Fonte:\n",
    "\n",
    "http://www.bmfbovespa.com.br/shared/iframe.aspx?idioma=pt-br&url=http://www.bmfbovespa.com.br/pt-br/cotacoes-historicas/FormSeriesHistoricas.asp\n",
    "\n",
    "Formato:\n",
    "\n",
    "http://www.bmfbovespa.com.br/pt-br/download/SeriesHistoricas_Layout.pdf\n",
    "\n",
    "Descrição:\n",
    "\n",
    "Os dados são referentes ao mês de Novembro/2015"
   ]
  },
  {
   "cell_type": "code",
   "execution_count": 43,
   "metadata": {
    "collapsed": false
   },
   "outputs": [
    {
     "name": "stdout",
     "output_type": "stream",
     "text": [
      "DATE\n"
     ]
    }
   ],
   "source": [
    "using DataFrames\n",
    "\n",
    "function parseQuotation(df, n, line)\n",
    "    date = string(line[3:6],\"-\",line[7:8],\"-\",line[9:10])\n",
    "    codbdi = line[11:12]\n",
    "    codbdi == \"02\" || return # Lote Padrão\n",
    "\n",
    "    codneg = strip(line[13:24]) # CÓDIGO DE NEGOCIAÇÃO DO PAPEL\n",
    "    tpmerc = line[25:27] # CÓD. DO MERCADO EM QUE O PAPEL ESTÁ CADASTRADO\n",
    "    nomres = strip(line[28:39]) # NOME RESUMIDO DA EMPRESA EMISSORA DO PAPEL\n",
    "    modref = strip(line[53:56]) # MOEDA DE REFERÊNCIA\n",
    "    preabe = parse(Float64, line[57:69]) / 100 # PREÇO DE ABERTURA DO PAPEL-MERCADO NO PREGÃO V(99)\n",
    "    preult = parse(Float64, line[109:121]) / 100 # PREÇO DO ÚLTIMO NEGÓCIO DO PAPEL-MERCADO NO PREGÃO V(99)\n",
    "    totneg = parse(Int, line[148:152]) # NÚMERO DE NEGÓCIOS EFETUADOS COM O PAPELMERCADO NO PREGÃO\n",
    "    quatot = parse(Int, line[153:170]) # QUANTIDADE TOTAL DE TÍTULOS NEGOCIADOS NESTE PAPELMERCADO\n",
    "    voltot = parse(Float64, line[171:188]) / 100 # VOLUME TOTAL DE TÍTULOS NEGOCIADOS NESTE PAPELMERCADO V(99)\n",
    "    push!(df, [date, codbdi, codneg, tpmerc, nomres, modref, preabe, preult, totneg, quatot, voltot])\n",
    "end\n",
    "\n",
    "function parseRegistry(df, n, line)\n",
    "    rtype = line[1:2] \n",
    "    if rtype == \"00\"\n",
    "        # ignoring header\n",
    "    elseif rtype == \"01\"\n",
    "        parseQuotation(df, n, line)\n",
    "    elseif rtype == \"99\"\n",
    "        # ignoring trailer\n",
    "    else\n",
    "        error(\"($n) unknown type: $rtype\")\n",
    "    end\n",
    "end\n",
    "\n",
    "function loadData(filename)\n",
    "    df = DataFrame(\n",
    "            DATE = AbstractString[],\n",
    "            CODBDI = AbstractString[],\n",
    "            CODNEG = AbstractString[],\n",
    "            TPMERC = AbstractString[],\n",
    "            NOMRES = AbstractString[],\n",
    "            MODREF = AbstractString[],\n",
    "            PREABE = Float64[],\n",
    "            PREULT = Float64[],\n",
    "            TOTNEG = Int[],\n",
    "            QUATOT = Int[],\n",
    "            VOLTOT = Float64[])\n",
    "    open(filename) do f\n",
    "        for (n, line) in enumerate(eachline(f))\n",
    "            parseRegistry(df, n, line)\n",
    "        end\n",
    "    end\n",
    "    df\n",
    "end\n",
    "\n",
    "data = loadData(\"COTAHIST_M112015.TXT\")\n",
    "\n",
    "describe(data)"
   ]
  },
  {
   "cell_type": "code",
   "execution_count": 44,
   "metadata": {
    "collapsed": false
   },
   "outputs": [],
   "source": [
    "println(\"Total de negociações: \", round(sum(data[:TOTNEG]) / 10^6, 1))\n",
    "println(\"Total de títulos: \", round(sum(data[:QUATOT]) / 10^6, 1))\n",
    "println(\"Total em volume: \", round(sum(data[:VOLTOT]) / 10^6, 1))"
   ]
  },
  {
   "cell_type": "code",
   "execution_count": 45,
   "metadata": {
    "collapsed": false
   },
   "outputs": [
    {
     "data": {
      "text/plain": [
       "242"
      ]
     },
     "execution_count": 45,
     "metadata": {},
     "output_type": "execute_result"
    },
    {
     "name": "stdout",
     "output_type": "stream",
     "text": [
      "Length  5995\n",
      "Type    AbstractString\n",
      "NAs     0\n",
      "NA%     0.0%\n",
      "Unique  19\n",
      "\n",
      "CODBDI\n",
      "Length  5995\n",
      "Type    AbstractString\n",
      "NAs     0\n",
      "NA%     0.0%\n",
      "Unique  1\n",
      "\n",
      "CODNEG\n",
      "Length  5995\n",
      "Type    AbstractString\n",
      "NAs     0\n",
      "NA%     0.0%\n",
      "Unique  451\n",
      "\n",
      "TPMERC\n",
      "Length  5995\n",
      "Type    AbstractString\n",
      "NAs     0\n",
      "NA%     0.0%\n",
      "Unique  1\n",
      "\n",
      "NOMRES\n",
      "Length  5995\n",
      "Type    AbstractString\n",
      "NAs     0\n",
      "NA%     0.0%\n",
      "Unique  369\n",
      "\n",
      "MODREF\n",
      "Length  5995\n",
      "Type    AbstractString\n",
      "NAs     0\n",
      "NA%     0.0%\n",
      "Unique  1\n",
      "\n",
      "PREABE\n",
      "Min      0.01\n",
      "1st Qu.  3.15\n",
      "Median   10.25\n",
      "Mean     52.87168306922435\n",
      "3rd Qu.  28.035\n",
      "Max      47645.0\n",
      "NAs      0\n",
      "NA%      0.0%\n",
      "\n",
      "PREULT\n",
      "Min      0.01\n",
      "1st Qu.  3.15\n",
      "Median   10.28\n",
      "Mean     52.90588323603003\n",
      "3rd Qu.  28.045\n",
      "Max      47645.0\n",
      "NAs      0\n",
      "NA%      0.0%\n",
      "\n",
      "TOTNEG\n",
      "Min      1.0\n",
      "1st Qu.  4.0\n",
      "Median   99.0\n",
      "Mean     2795.8902418682237\n",
      "3rd Qu.  2487.0\n",
      "Max      61557.0\n",
      "NAs      0\n",
      "NA%      0.0%\n",
      "\n",
      "QUATOT\n",
      "Min      1.0\n",
      "1st Qu.  2600.0\n",
      "Median   59700.0\n",
      "Mean     1.3840572552126772e6\n",
      "3rd Qu.  835150.0\n",
      "Max      9.26903e7\n",
      "NAs      0\n",
      "NA%      0.0%\n",
      "\n",
      "VOLTOT\n",
      "Min      3.0\n",
      "1st Qu.  38685.0\n",
      "Median   439874.0\n",
      "Mean     1.847577810304754e7\n",
      "3rd Qu.  8.560109e6\n",
      "Max      7.67036861e8\n",
      "NAs      0\n",
      "NA%      0.0%\n",
      "\n",
      "Total de negociações: 16.8\n",
      "Total de títulos: 8297.4\n",
      "Total em volume: 110762.3\n"
     ]
    }
   ],
   "source": [
    "k = []\n",
    "n = length(unique(data[:DATE]))\n",
    "for q in unique(data[:CODNEG])\n",
    "    nq = nrow(data[data[:CODNEG] .== q, [:DATE]])\n",
    "    nq == n || push!(k, q)\n",
    "end\n",
    "length(k)"
   ]
  },
  {
   "cell_type": "code",
   "execution_count": 46,
   "metadata": {
    "collapsed": false
   },
   "outputs": [
    {
     "data": {
      "text/html": [
       "<table class=\"data-frame\"><tr><th></th><th>DATE</th><th>CODBDI</th><th>CODNEG</th><th>TPMERC</th><th>NOMRES</th><th>MODREF</th><th>PREABE</th><th>PREULT</th><th>TOTNEG</th><th>QUATOT</th><th>VOLTOT</th></tr><tr><th>1</th><td>2015-11-03</td><td>02</td><td>ABCB4</td><td>010</td><td>ABC BRASIL</td><td>R$</td><td>8.49</td><td>8.8</td><td>1068</td><td>257000</td><td>2.243335e6</td></tr><tr><th>2</th><td>2015-11-03</td><td>02</td><td>ABEV3</td><td>010</td><td>AMBEV S/A</td><td>R$</td><td>19.1</td><td>19.6</td><td>32307</td><td>13504000</td><td>2.61856419e8</td></tr><tr><th>3</th><td>2015-11-03</td><td>02</td><td>AGRO3</td><td>010</td><td>BRASILAGRO</td><td>R$</td><td>10.7</td><td>10.9</td><td>77</td><td>21000</td><td>226828.0</td></tr><tr><th>4</th><td>2015-11-03</td><td>02</td><td>ALPA3</td><td>010</td><td>ALPARGATAS</td><td>R$</td><td>9.58</td><td>9.71</td><td>14</td><td>11200</td><td>108100.0</td></tr><tr><th>5</th><td>2015-11-03</td><td>02</td><td>ALPA4</td><td>010</td><td>ALPARGATAS</td><td>R$</td><td>8.19</td><td>8.6</td><td>1394</td><td>718900</td><td>6.141464e6</td></tr><tr><th>6</th><td>2015-11-03</td><td>02</td><td>ALSC3</td><td>010</td><td>ALIANSCE</td><td>R$</td><td>10.44</td><td>11.12</td><td>1360</td><td>378700</td><td>4.191205e6</td></tr><tr><th>7</th><td>2015-11-03</td><td>02</td><td>ALUP11</td><td>010</td><td>ALUPAR</td><td>R$</td><td>15.7</td><td>15.35</td><td>1766</td><td>1195900</td><td>1.8348705e7</td></tr><tr><th>8</th><td>2015-11-03</td><td>02</td><td>AMAR3</td><td>010</td><td>LOJAS MARISA</td><td>R$</td><td>6.52</td><td>6.7</td><td>51</td><td>20600</td><td>136972.0</td></tr><tr><th>9</th><td>2015-11-03</td><td>02</td><td>ANIM3</td><td>010</td><td>ANIMA</td><td>R$</td><td>13.41</td><td>13.62</td><td>4261</td><td>826500</td><td>1.1304982e7</td></tr><tr><th>10</th><td>2015-11-03</td><td>02</td><td>ARTR3</td><td>010</td><td>ARTERIS</td><td>R$</td><td>9.37</td><td>9.37</td><td>2398</td><td>513500</td><td>4.802094e6</td></tr><tr><th>11</th><td>2015-11-03</td><td>02</td><td>ARZZ3</td><td>010</td><td>AREZZO CO</td><td>R$</td><td>21.33</td><td>21.75</td><td>391</td><td>67000</td><td>1.433339e6</td></tr><tr><th>12</th><td>2015-11-03</td><td>02</td><td>BAZA3</td><td>010</td><td>AMAZONIA</td><td>R$</td><td>0.25</td><td>0.25</td><td>2</td><td>2000</td><td>500.0</td></tr><tr><th>13</th><td>2015-11-03</td><td>02</td><td>BBAS3</td><td>010</td><td>BRASIL</td><td>R$</td><td>16.27</td><td>17.38</td><td>29637</td><td>10820800</td><td>1.82542311e8</td></tr><tr><th>14</th><td>2015-11-03</td><td>02</td><td>BBDC3</td><td>010</td><td>BRADESCO</td><td>R$</td><td>23.8</td><td>24.8</td><td>13359</td><td>2198500</td><td>5.3795608e7</td></tr><tr><th>15</th><td>2015-11-03</td><td>02</td><td>BBDC4</td><td>010</td><td>BRADESCO</td><td>R$</td><td>21.2</td><td>22.11</td><td>39403</td><td>16970800</td><td>3.68049866e8</td></tr><tr><th>16</th><td>2015-11-03</td><td>02</td><td>BBRK3</td><td>010</td><td>BR BROKERS</td><td>R$</td><td>1.51</td><td>1.48</td><td>1640</td><td>446600</td><td>663511.0</td></tr><tr><th>17</th><td>2015-11-03</td><td>02</td><td>BBSE3</td><td>010</td><td>BBSEGURIDADE</td><td>R$</td><td>26.84</td><td>28.21</td><td>30446</td><td>7355500</td><td>2.03399123e8</td></tr><tr><th>18</th><td>2015-11-03</td><td>02</td><td>BBTG11</td><td>010</td><td>BTG PACTUAL</td><td>R$</td><td>28.75</td><td>28.95</td><td>2239</td><td>1361900</td><td>3.9460277e7</td></tr><tr><th>19</th><td>2015-11-03</td><td>02</td><td>BEEF3</td><td>010</td><td>MINERVA</td><td>R$</td><td>12.77</td><td>12.95</td><td>5376</td><td>965000</td><td>1.2397087e7</td></tr><tr><th>20</th><td>2015-11-03</td><td>02</td><td>BEES3</td><td>010</td><td>BANESTES</td><td>R$</td><td>1.92</td><td>1.93</td><td>6</td><td>8300</td><td>15888.0</td></tr><tr><th>21</th><td>2015-11-03</td><td>02</td><td>BPAN4</td><td>010</td><td>BANCO PAN</td><td>R$</td><td>1.5</td><td>1.5</td><td>24</td><td>6600</td><td>9827.0</td></tr><tr><th>22</th><td>2015-11-03</td><td>02</td><td>BPHA3</td><td>010</td><td>BR PHARMA</td><td>R$</td><td>0.52</td><td>0.4</td><td>1822</td><td>5773000</td><td>2.444184e6</td></tr><tr><th>23</th><td>2015-11-03</td><td>02</td><td>BRAP3</td><td>010</td><td>BRADESPAR</td><td>R$</td><td>6.67</td><td>6.65</td><td>286</td><td>101400</td><td>677333.0</td></tr><tr><th>24</th><td>2015-11-03</td><td>02</td><td>BRAP4</td><td>010</td><td>BRADESPAR</td><td>R$</td><td>8.09</td><td>8.3</td><td>8262</td><td>2643100</td><td>2.1474565e7</td></tr><tr><th>25</th><td>2015-11-03</td><td>02</td><td>BRFS3</td><td>010</td><td>BRF SA</td><td>R$</td><td>58.51</td><td>57.82</td><td>25598</td><td>9529900</td><td>5.53880431e8</td></tr><tr><th>26</th><td>2015-11-03</td><td>02</td><td>BRIN3</td><td>010</td><td>BR INSURANCE</td><td>R$</td><td>0.83</td><td>0.86</td><td>927</td><td>4336500</td><td>3.569023e6</td></tr><tr><th>27</th><td>2015-11-03</td><td>02</td><td>BRKM3</td><td>010</td><td>BRASKEM</td><td>R$</td><td>14.49</td><td>14.35</td><td>5</td><td>1100</td><td>15930.0</td></tr><tr><th>28</th><td>2015-11-03</td><td>02</td><td>BRKM5</td><td>010</td><td>BRASKEM</td><td>R$</td><td>21.74</td><td>21.49</td><td>14437</td><td>2952700</td><td>6.3523995e7</td></tr><tr><th>29</th><td>2015-11-03</td><td>02</td><td>BRML3</td><td>010</td><td>BR MALLS PAR</td><td>R$</td><td>11.21</td><td>12.0</td><td>13787</td><td>3972900</td><td>4.6708714e7</td></tr><tr><th>30</th><td>2015-11-03</td><td>02</td><td>BRPR3</td><td>010</td><td>BR PROPERT</td><td>R$</td><td>12.0</td><td>12.34</td><td>4950</td><td>900000</td><td>1.0872091e7</td></tr><tr><th>&vellip;</th><td>&vellip;</td><td>&vellip;</td><td>&vellip;</td><td>&vellip;</td><td>&vellip;</td><td>&vellip;</td><td>&vellip;</td><td>&vellip;</td><td>&vellip;</td><td>&vellip;</td><td>&vellip;</td></tr></table>"
      ],
      "text/plain": [
       "3971x11 DataFrames.DataFrame\n",
       "| Row  | DATE         | CODBDI | CODNEG   | TPMERC | NOMRES         | MODREF |\n",
       "|------|--------------|--------|----------|--------|----------------|--------|\n",
       "| 1    | \"2015-11-03\" | \"02\"   | \"ABCB4\"  | \"010\"  | \"ABC BRASIL\"   | \"R\\$\"   |\n",
       "| 2    | \"2015-11-03\" | \"02\"   | \"ABEV3\"  | \"010\"  | \"AMBEV S/A\"    | \"R\\$\"   |\n",
       "| 3    | \"2015-11-03\" | \"02\"   | \"AGRO3\"  | \"010\"  | \"BRASILAGRO\"   | \"R\\$\"   |\n",
       "| 4    | \"2015-11-03\" | \"02\"   | \"ALPA3\"  | \"010\"  | \"ALPARGATAS\"   | \"R\\$\"   |\n",
       "| 5    | \"2015-11-03\" | \"02\"   | \"ALPA4\"  | \"010\"  | \"ALPARGATAS\"   | \"R\\$\"   |\n",
       "| 6    | \"2015-11-03\" | \"02\"   | \"ALSC3\"  | \"010\"  | \"ALIANSCE\"     | \"R\\$\"   |\n",
       "| 7    | \"2015-11-03\" | \"02\"   | \"ALUP11\" | \"010\"  | \"ALUPAR\"       | \"R\\$\"   |\n",
       "| 8    | \"2015-11-03\" | \"02\"   | \"AMAR3\"  | \"010\"  | \"LOJAS MARISA\" | \"R\\$\"   |\n",
       "| 9    | \"2015-11-03\" | \"02\"   | \"ANIM3\"  | \"010\"  | \"ANIMA\"        | \"R\\$\"   |\n",
       "| 10   | \"2015-11-03\" | \"02\"   | \"ARTR3\"  | \"010\"  | \"ARTERIS\"      | \"R\\$\"   |\n",
       "| 11   | \"2015-11-03\" | \"02\"   | \"ARZZ3\"  | \"010\"  | \"AREZZO CO\"    | \"R\\$\"   |\n",
       "⋮\n",
       "| 3960 | \"2015-11-30\" | \"02\"   | \"UNIP6\"  | \"010\"  | \"UNIPAR\"       | \"R\\$\"   |\n",
       "| 3961 | \"2015-11-30\" | \"02\"   | \"USIM3\"  | \"010\"  | \"USIMINAS\"     | \"R\\$\"   |\n",
       "| 3962 | \"2015-11-30\" | \"02\"   | \"USIM5\"  | \"010\"  | \"USIMINAS\"     | \"R\\$\"   |\n",
       "| 3963 | \"2015-11-30\" | \"02\"   | \"VAGR3\"  | \"010\"  | \"V-AGRO\"       | \"R\\$\"   |\n",
       "| 3964 | \"2015-11-30\" | \"02\"   | \"VALE3\"  | \"010\"  | \"VALE\"         | \"R\\$\"   |\n",
       "| 3965 | \"2015-11-30\" | \"02\"   | \"VALE5\"  | \"010\"  | \"VALE\"         | \"R\\$\"   |\n",
       "| 3966 | \"2015-11-30\" | \"02\"   | \"VIVR3\"  | \"010\"  | \"VIVER\"        | \"R\\$\"   |\n",
       "| 3967 | \"2015-11-30\" | \"02\"   | \"VIVT4\"  | \"010\"  | \"TELEF BRASIL\" | \"R\\$\"   |\n",
       "| 3968 | \"2015-11-30\" | \"02\"   | \"VLID3\"  | \"010\"  | \"VALID\"        | \"R\\$\"   |\n",
       "| 3969 | \"2015-11-30\" | \"02\"   | \"VVAR11\" | \"010\"  | \"VIAVAREJO\"    | \"R\\$\"   |\n",
       "| 3970 | \"2015-11-30\" | \"02\"   | \"WEGE3\"  | \"010\"  | \"WEG\"          | \"R\\$\"   |\n",
       "| 3971 | \"2015-11-30\" | \"02\"   | \"WHRL4\"  | \"010\"  | \"WHIRLPOOL\"    | \"R\\$\"   |\n",
       "\n",
       "| Row  | PREABE | PREULT | TOTNEG | QUATOT   | VOLTOT    |\n",
       "|------|--------|--------|--------|----------|-----------|\n",
       "| 1    | 8.49   | 8.8    | 1068   | 257000   | 2.24334e6 |\n",
       "| 2    | 19.1   | 19.6   | 32307  | 13504000 | 2.61856e8 |\n",
       "| 3    | 10.7   | 10.9   | 77     | 21000    | 226828.0  |\n",
       "| 4    | 9.58   | 9.71   | 14     | 11200    | 108100.0  |\n",
       "| 5    | 8.19   | 8.6    | 1394   | 718900   | 6.14146e6 |\n",
       "| 6    | 10.44  | 11.12  | 1360   | 378700   | 4.19121e6 |\n",
       "| 7    | 15.7   | 15.35  | 1766   | 1195900  | 1.83487e7 |\n",
       "| 8    | 6.52   | 6.7    | 51     | 20600    | 136972.0  |\n",
       "| 9    | 13.41  | 13.62  | 4261   | 826500   | 1.1305e7  |\n",
       "| 10   | 9.37   | 9.37   | 2398   | 513500   | 4.80209e6 |\n",
       "| 11   | 21.33  | 21.75  | 391    | 67000    | 1.43334e6 |\n",
       "⋮\n",
       "| 3960 | 3.81   | 3.86   | 13     | 8400     | 32342.0   |\n",
       "| 3961 | 6.91   | 6.52   | 40     | 10300    | 68786.0   |\n",
       "| 3962 | 2.5    | 2.2    | 24426  | 60223700 | 1.36435e8 |\n",
       "| 3963 | 13.24  | 13.3   | 12     | 1300     | 17320.0   |\n",
       "| 3964 | 13.04  | 13.17  | 35817  | 13658200 | 1.79163e8 |\n",
       "| 3965 | 10.76  | 10.63  | 44276  | 33383900 | 3.5699e8  |\n",
       "| 3966 | 0.02   | 0.03   | 11     | 324200   | 6492.0    |\n",
       "| 3967 | 37.4   | 37.0   | 11285  | 3508700  | 1.30388e8 |\n",
       "| 3968 | 42.91  | 43.0   | 1333   | 254800   | 1.0862e7  |\n",
       "| 3969 | 3.87   | 3.5    | 16596  | 18362500 | 6.45768e7 |\n",
       "| 3970 | 15.66  | 15.2   | 16060  | 5824700  | 9.14525e7 |\n",
       "| 3971 | 2.58   | 2.61   | 24     | 39700    | 100894.0  |"
      ]
     },
     "execution_count": 46,
     "metadata": {},
     "output_type": "execute_result"
    }
   ],
   "source": [
    "alldates = DataArray{Bool,1}(map(x -> !(x in k), data[:CODNEG]))\n",
    "data = data[alldates, :]"
   ]
  },
  {
   "cell_type": "code",
   "execution_count": 47,
   "metadata": {
    "collapsed": false
   },
   "outputs": [
    {
     "data": {
      "text/html": [
       "<table class=\"data-frame\"><tr><th></th><th>CODNEG</th><th>DATE</th><th>RET</th></tr><tr><th>1</th><td>ABCB4</td><td>2015-11-03</td><td>0.03651354534746767</td></tr><tr><th>2</th><td>ABCB4</td><td>2015-11-04</td><td>0.02156640181611799</td></tr><tr><th>3</th><td>ABCB4</td><td>2015-11-05</td><td>0.015538290788013382</td></tr><tr><th>4</th><td>ABCB4</td><td>2015-11-06</td><td>-0.016375545851528422</td></tr><tr><th>5</th><td>ABCB4</td><td>2015-11-09</td><td>0.006651884700665244</td></tr><tr><th>6</th><td>ABCB4</td><td>2015-11-10</td><td>-0.0022050716648290597</td></tr><tr><th>7</th><td>ABCB4</td><td>2015-11-11</td><td>0.04070407040704081</td></tr><tr><th>8</th><td>ABCB4</td><td>2015-11-12</td><td>-0.0010570824524314547</td></tr><tr><th>9</th><td>ABCB4</td><td>2015-11-13</td><td>-0.020212765957446754</td></tr><tr><th>10</th><td>ABCB4</td><td>2015-11-16</td><td>0.0032362459546926795</td></tr><tr><th>11</th><td>ABCB4</td><td>2015-11-17</td><td>0.007462686567164019</td></tr><tr><th>12</th><td>ABCB4</td><td>2015-11-18</td><td>0.008447729672650481</td></tr><tr><th>13</th><td>ABCB4</td><td>2015-11-19</td><td>0.036649214659685826</td></tr><tr><th>14</th><td>ABCB4</td><td>2015-11-23</td><td>-0.010101010101010065</td></tr><tr><th>15</th><td>ABCB4</td><td>2015-11-24</td><td>0.0020554984583761125</td></tr><tr><th>16</th><td>ABCB4</td><td>2015-11-25</td><td>-0.03589743589743586</td></tr><tr><th>17</th><td>ABCB4</td><td>2015-11-26</td><td>0.010537407797681732</td></tr><tr><th>18</th><td>ABCB4</td><td>2015-11-27</td><td>-0.020855057351407642</td></tr><tr><th>19</th><td>ABCB4</td><td>2015-11-30</td><td>-0.042887029288702944</td></tr><tr><th>20</th><td>ABEV3</td><td>2015-11-03</td><td>0.026178010471204185</td></tr><tr><th>21</th><td>ABEV3</td><td>2015-11-04</td><td>-0.004570848146267134</td></tr><tr><th>22</th><td>ABEV3</td><td>2015-11-05</td><td>-0.0015392508978962333</td></tr><tr><th>23</th><td>ABEV3</td><td>2015-11-06</td><td>-0.020650490449148275</td></tr><tr><th>24</th><td>ABEV3</td><td>2015-11-09</td><td>-0.01423299947285185</td></tr><tr><th>25</th><td>ABEV3</td><td>2015-11-10</td><td>0.004308023694130226</td></tr><tr><th>26</th><td>ABEV3</td><td>2015-11-11</td><td>0.018706574024585667</td></tr><tr><th>27</th><td>ABEV3</td><td>2015-11-12</td><td>-0.008398950131233603</td></tr><tr><th>28</th><td>ABEV3</td><td>2015-11-13</td><td>0.011116993118051924</td></tr><tr><th>29</th><td>ABEV3</td><td>2015-11-16</td><td>-0.0005246589716683111</td></tr><tr><th>30</th><td>ABEV3</td><td>2015-11-17</td><td>-0.009326424870466306</td></tr><tr><th>&vellip;</th><td>&vellip;</td><td>&vellip;</td><td>&vellip;</td></tr></table>"
      ],
      "text/plain": [
       "3971x3 DataFrames.DataFrame\n",
       "| Row  | CODNEG  | DATE         | RET         |\n",
       "|------|---------|--------------|-------------|\n",
       "| 1    | \"ABCB4\" | \"2015-11-03\" | 0.0365135   |\n",
       "| 2    | \"ABCB4\" | \"2015-11-04\" | 0.0215664   |\n",
       "| 3    | \"ABCB4\" | \"2015-11-05\" | 0.0155383   |\n",
       "| 4    | \"ABCB4\" | \"2015-11-06\" | -0.0163755  |\n",
       "| 5    | \"ABCB4\" | \"2015-11-09\" | 0.00665188  |\n",
       "| 6    | \"ABCB4\" | \"2015-11-10\" | -0.00220507 |\n",
       "| 7    | \"ABCB4\" | \"2015-11-11\" | 0.0407041   |\n",
       "| 8    | \"ABCB4\" | \"2015-11-12\" | -0.00105708 |\n",
       "| 9    | \"ABCB4\" | \"2015-11-13\" | -0.0202128  |\n",
       "| 10   | \"ABCB4\" | \"2015-11-16\" | 0.00323625  |\n",
       "| 11   | \"ABCB4\" | \"2015-11-17\" | 0.00746269  |\n",
       "⋮\n",
       "| 3960 | \"WHRL4\" | \"2015-11-12\" | 0.0344828   |\n",
       "| 3961 | \"WHRL4\" | \"2015-11-13\" | 0.00371747  |\n",
       "| 3962 | \"WHRL4\" | \"2015-11-16\" | -0.0151515  |\n",
       "| 3963 | \"WHRL4\" | \"2015-11-17\" | 0.0         |\n",
       "| 3964 | \"WHRL4\" | \"2015-11-18\" | -0.0194553  |\n",
       "| 3965 | \"WHRL4\" | \"2015-11-19\" | 0.03125     |\n",
       "| 3966 | \"WHRL4\" | \"2015-11-23\" | -0.003861   |\n",
       "| 3967 | \"WHRL4\" | \"2015-11-24\" | 0.019305    |\n",
       "| 3968 | \"WHRL4\" | \"2015-11-25\" | 0.0         |\n",
       "| 3969 | \"WHRL4\" | \"2015-11-26\" | 0.0757576   |\n",
       "| 3970 | \"WHRL4\" | \"2015-11-27\" | -0.0301887  |\n",
       "| 3971 | \"WHRL4\" | \"2015-11-30\" | 0.0116279   |"
      ]
     },
     "execution_count": 47,
     "metadata": {},
     "output_type": "execute_result"
    }
   ],
   "source": [
    "data[:RET] = (data[:PREULT] - data[:PREABE]) ./ data[:PREABE]\n",
    "ret = data[:, [:CODNEG, :DATE, :RET]]\n",
    "sort!(ret, cols = (:CODNEG, :DATE))\n",
    "ret"
   ]
  },
  {
   "cell_type": "code",
   "execution_count": 48,
   "metadata": {
    "collapsed": false
   },
   "outputs": [
    {
     "data": {
      "text/plain": [
       "19x209 Array{Float64,2}:\n",
       "  0.0365135    0.026178      0.0186916    …  -0.00758621  -0.0398551 \n",
       "  0.0215664   -0.00457085    0.0256645       -0.00138985   0.0       \n",
       "  0.0155383   -0.00153925    0.013369         0.0694927    0.0150943 \n",
       " -0.0163755   -0.0206505     0.0166667       -0.0208062    0.0520446 \n",
       "  0.00665188  -0.014233     -0.0025729       -0.00995355  -0.0178571 \n",
       " -0.00220507   0.00430802   -0.0170213    …  -0.0308104   -0.0107914 \n",
       "  0.0407041    0.0187066    -0.0155844        0.0055325   -0.0150943 \n",
       " -0.00105708  -0.00839895    0.00350877      -0.0226337    0.0344828 \n",
       " -0.0202128    0.011117      0.000869565     -0.0105634    0.00371747\n",
       "  0.00323625  -0.000524659  -0.0087184        0.00923952  -0.0151515 \n",
       "  0.00746269  -0.00932642   -0.00615655   …   0.00980392   0.0       \n",
       "  0.00844773   0.00261506    0.0             -0.0228216   -0.0194553 \n",
       "  0.0366492   -0.00309119   -0.000884956      0.0352113    0.03125   \n",
       " -0.010101    -0.0154959    -0.0140474       -0.00608519  -0.003861  \n",
       "  0.0020555   -0.00577428   -0.00807175       0.0342231    0.019305  \n",
       " -0.0358974   -0.00641026   -0.00633484   …   0.0225166    0.0       \n",
       "  0.0105374    0.0112903    -0.000921659     -0.00839793   0.0757576 \n",
       " -0.0208551   -0.0106553     0.00466418       0.0175439   -0.0301887 \n",
       " -0.042887     0.0102981    -0.0103286       -0.0293742    0.0116279 "
      ]
     },
     "execution_count": 48,
     "metadata": {},
     "output_type": "execute_result"
    }
   ],
   "source": [
    "tidx = unique(ret[:DATE])\n",
    "nidx = unique(ret[:CODNEG])\n",
    "result = zeros(length(tidx), length(nidx))\n",
    "\n",
    "for i=1:nrow(ret)\n",
    "    n, t, r = ret[:CODNEG][i], ret[:DATE][i], ret[:RET][i]\n",
    "    ni = findfirst(nidx, n)\n",
    "    ti = findfirst(tidx, t)\n",
    "    result[ti, ni] = r\n",
    "end\n",
    "\n",
    "result"
   ]
  },
  {
   "cell_type": "code",
   "execution_count": 49,
   "metadata": {
    "collapsed": false
   },
   "outputs": [
    {
     "data": {
      "text/plain": [
       "(\n",
       "209x209 Array{Float64,2}:\n",
       "  0.000533397   9.76987e-5    6.29312e-5   …   0.000157678  -6.35954e-5 \n",
       "  9.76987e-5    0.000147318  -7.98739e-6      -4.18321e-5   -7.1184e-5  \n",
       "  6.29312e-5   -7.98739e-6    0.000142261      3.7783e-5     3.44445e-5 \n",
       "  2.1333e-5     6.43695e-5    7.79469e-6      -0.000105535  -7.90443e-5 \n",
       "  0.000222631   0.000190124   0.000126063     -0.000282599  -0.00026856 \n",
       "  0.000355128   0.000152915   7.17367e-5   …   9.86364e-5   -0.000173753\n",
       "  0.000138977   2.98108e-5    9.70375e-6       5.94375e-5    0.000258   \n",
       "  0.000421464   8.3647e-5     8.03635e-5       0.000168933  -0.000137753\n",
       "  0.000269137   4.20291e-5   -3.50408e-5      -7.83959e-5   -0.000253977\n",
       " -1.53107e-5    1.25307e-6   -1.14821e-5       1.7238e-5    -2.59918e-5 \n",
       "  0.000214253   3.431e-5     -5.44429e-5   …   0.000101712  -4.86168e-5 \n",
       " -0.000182446  -5.67022e-5   -5.41801e-5      -0.000198155  -2.47844e-5 \n",
       "  0.000528814   0.000154016   8.60238e-5       0.000260174  -4.21134e-5 \n",
       "  ⋮                                        ⋱                            \n",
       " -6.52841e-5    4.15579e-5   -4.44338e-5      -9.41005e-5   -0.000128043\n",
       "  0.000147892   0.000125065   6.86421e-5       8.14287e-5   -8.46125e-5 \n",
       "  0.000370172   0.000120303   6.46882e-5       0.000126813  -0.000361691\n",
       "  9.18426e-5    7.55443e-5    0.000116619  …   0.000207562   8.47909e-5 \n",
       "  4.75823e-6    0.00016138   -7.02114e-5      -0.000172871   1.54033e-5 \n",
       "  3.8853e-5     0.000100298  -3.48441e-5      -4.78228e-5    7.74745e-5 \n",
       " -0.0010907     0.000714727  -0.000117916     -0.00141679   -0.00043274 \n",
       "  0.00018736    4.00801e-5   -1.88972e-5      -0.000147448   1.9496e-5  \n",
       " -0.000106622  -5.63219e-6    2.17377e-5   …  -0.000141886   0.000232644\n",
       "  0.000595407   0.000196068   0.000148103     -5.66326e-5   -0.000389517\n",
       "  0.000157678  -4.18321e-5    3.7783e-5        0.000659177   1.65436e-5 \n",
       " -6.35954e-5   -7.1184e-5     3.44445e-5       1.65436e-5    0.000817382,\n",
       "\n",
       "1x209 Array{Float64,2}:\n",
       " 0.00209326  -0.000850391  -0.000379395  …  -0.011193  0.00174427  0.00479081)"
      ]
     },
     "execution_count": 49,
     "metadata": {},
     "output_type": "execute_result"
    }
   ],
   "source": [
    "C, R = cov(result), mean(result, 1)"
   ]
  },
  {
   "cell_type": "code",
   "execution_count": 54,
   "metadata": {
    "collapsed": false
   },
   "outputs": [],
   "source": [
    "#writedlm(\"n.tsv\", nidx)\n",
    "#writedlm(\"C.tsv\", C)\n",
    "#writedlm(\"R.tsv\", R)\n",
    "writetable(\"data.tsv\", ret)"
   ]
  },
  {
   "cell_type": "code",
   "execution_count": 51,
   "metadata": {
    "collapsed": false
   },
   "outputs": [
    {
     "data": {
      "text/plain": [
       "save (generic function with 1 method)"
      ]
     },
     "execution_count": 51,
     "metadata": {},
     "output_type": "execute_result"
    }
   ],
   "source": [
    "function save(df, name)\n",
    "    tidx = unique(df[:DATE])\n",
    "    nidx = unique(df[:CODNEG])\n",
    "    data = zeros(length(tidx), length(nidx))\n",
    "\n",
    "    for i=1:nrow(df)\n",
    "        n, t, r = df[:CODNEG][i], df[:DATE][i], df[:RET][i]\n",
    "        ni = findfirst(nidx, n)\n",
    "        ti = findfirst(tidx, t)\n",
    "        data[ti, ni] = r\n",
    "    end\n",
    "\n",
    "    C, R = cov(data), mean(data, 1)\n",
    "    \n",
    "    writedlm(\"$name-n.tsv\", nidx)\n",
    "    writedlm(\"$name-C.tsv\", C)\n",
    "    writedlm(\"$name-R.tsv\", R)\n",
    "\n",
    "    writetable(\"$name.tsv\", df)\n",
    "    df\n",
    "end"
   ]
  },
  {
   "cell_type": "code",
   "execution_count": 52,
   "metadata": {
    "collapsed": false
   },
   "outputs": [
    {
     "data": {
      "text/html": [
       "<table class=\"data-frame\"><tr><th></th><th>CODNEG</th><th>RET</th></tr><tr><th>1</th><td>VIVR3</td><td>0.08333333333333337</td></tr><tr><th>2</th><td>LOGN3</td><td>0.02372840691628895</td></tr><tr><th>3</th><td>BRIN3</td><td>0.013053055132483858</td></tr><tr><th>4</th><td>PNVL3</td><td>0.012515252161818001</td></tr><tr><th>5</th><td>ELET3</td><td>0.01170931906051046</td></tr><tr><th>6</th><td>ROMI3</td><td>0.011098163067977916</td></tr><tr><th>7</th><td>CSMG3</td><td>0.010918432395899848</td></tr><tr><th>8</th><td>MAGG3</td><td>0.010895996068574212</td></tr><tr><th>9</th><td>BRKM5</td><td>0.008825894566491386</td></tr><tr><th>10</th><td>POSI3</td><td>0.008409644158418333</td></tr><tr><th>11</th><td>SMLE3</td><td>0.008172989443935514</td></tr><tr><th>12</th><td>BRML3</td><td>0.007881415183634657</td></tr><tr><th>13</th><td>ELET6</td><td>0.007378667992951432</td></tr><tr><th>14</th><td>SUZB5</td><td>0.007246338367465429</td></tr><tr><th>15</th><td>HYPE3</td><td>0.007112757919634363</td></tr><tr><th>16</th><td>POMO3</td><td>0.006886289762930882</td></tr><tr><th>17</th><td>MRVE3</td><td>0.00669420712152262</td></tr><tr><th>18</th><td>MPLU3</td><td>0.006620047769091104</td></tr><tr><th>19</th><td>FIBR3</td><td>0.006493961736796302</td></tr><tr><th>20</th><td>GPIV33</td><td>0.006307292971503158</td></tr><tr><th>21</th><td>POMO4</td><td>0.006260899238284405</td></tr><tr><th>22</th><td>GUAR4</td><td>0.005777258494797491</td></tr><tr><th>23</th><td>SLED4</td><td>0.0056785183138118945</td></tr><tr><th>24</th><td>LEVE3</td><td>0.005643993152202717</td></tr><tr><th>25</th><td>DAGB33</td><td>0.005626128726856539</td></tr><tr><th>26</th><td>KLBN11</td><td>0.005165967817739534</td></tr><tr><th>27</th><td>CSNA3</td><td>0.005130262796891461</td></tr><tr><th>28</th><td>ARTR3</td><td>0.004908826893299613</td></tr><tr><th>29</th><td>WHRL4</td><td>0.004790805738996855</td></tr><tr><th>30</th><td>ALSC3</td><td>0.00445948103767028</td></tr><tr><th>&vellip;</th><td>&vellip;</td><td>&vellip;</td></tr></table>"
      ],
      "text/plain": [
       "209x2 DataFrames.DataFrame\n",
       "| Row | CODNEG   | RET        |\n",
       "|-----|----------|------------|\n",
       "| 1   | \"VIVR3\"  | 0.0833333  |\n",
       "| 2   | \"LOGN3\"  | 0.0237284  |\n",
       "| 3   | \"BRIN3\"  | 0.0130531  |\n",
       "| 4   | \"PNVL3\"  | 0.0125153  |\n",
       "| 5   | \"ELET3\"  | 0.0117093  |\n",
       "| 6   | \"ROMI3\"  | 0.0110982  |\n",
       "| 7   | \"CSMG3\"  | 0.0109184  |\n",
       "| 8   | \"MAGG3\"  | 0.010896   |\n",
       "| 9   | \"BRKM5\"  | 0.00882589 |\n",
       "| 10  | \"POSI3\"  | 0.00840964 |\n",
       "| 11  | \"SMLE3\"  | 0.00817299 |\n",
       "⋮\n",
       "| 198 | \"PDGR3\"  | -0.016767  |\n",
       "| 199 | \"RSID3\"  | -0.0196549 |\n",
       "| 200 | \"RNEW11\" | -0.0202752 |\n",
       "| 201 | \"GOAU3\"  | -0.0210471 |\n",
       "| 202 | \"SHOW3\"  | -0.0211154 |\n",
       "| 203 | \"JHSF3\"  | -0.0212107 |\n",
       "| 204 | \"LLIS3\"  | -0.0212738 |\n",
       "| 205 | \"BRAP4\"  | -0.0213555 |\n",
       "| 206 | \"USIM5\"  | -0.0214107 |\n",
       "| 207 | \"TELB4\"  | -0.0264358 |\n",
       "| 208 | \"CTAX11\" | -0.0518042 |\n",
       "| 209 | \"CTAX4\"  | -0.0699347 |"
      ]
     },
     "execution_count": 52,
     "metadata": {},
     "output_type": "execute_result"
    }
   ],
   "source": [
    "# Maior rendimento médio\n",
    "\n",
    "rdf = DataFrame(CODNEG = AbstractString[], RET = Float64[])\n",
    "\n",
    "for q in unique(ret[:CODNEG])\n",
    "    qdf = ret[ret[:CODNEG] .== q, :]\n",
    "    m = mean(qdf[:RET])\n",
    "    push!(rdf, [q, m])\n",
    "end\n",
    "sort!(rdf, cols = :RET, rev = true)\n",
    "\n",
    "rdf"
   ]
  },
  {
   "cell_type": "code",
   "execution_count": 53,
   "metadata": {
    "collapsed": false
   },
   "outputs": [
    {
     "data": {
      "text/html": [
       "<table class=\"data-frame\"><tr><th></th><th>CODNEG</th><th>DATE</th><th>RET</th></tr><tr><th>1</th><td>BRIN3</td><td>2015-11-03</td><td>0.036144578313253045</td></tr><tr><th>2</th><td>BRIN3</td><td>2015-11-04</td><td>-0.011363636363636374</td></tr><tr><th>3</th><td>BRIN3</td><td>2015-11-05</td><td>0.0</td></tr><tr><th>4</th><td>BRIN3</td><td>2015-11-06</td><td>-0.011363636363636374</td></tr><tr><th>5</th><td>BRIN3</td><td>2015-11-09</td><td>0.05882352941176476</td></tr><tr><th>6</th><td>BRIN3</td><td>2015-11-10</td><td>-0.01111111111111112</td></tr><tr><th>7</th><td>BRIN3</td><td>2015-11-11</td><td>0.02222222222222224</td></tr><tr><th>8</th><td>BRIN3</td><td>2015-11-12</td><td>0.0</td></tr><tr><th>9</th><td>BRIN3</td><td>2015-11-13</td><td>0.054347826086956444</td></tr><tr><th>10</th><td>BRIN3</td><td>2015-11-16</td><td>-0.031249999999999913</td></tr><tr><th>11</th><td>BRIN3</td><td>2015-11-17</td><td>-0.021739130434782625</td></tr><tr><th>12</th><td>BRIN3</td><td>2015-11-18</td><td>0.0561797752808988</td></tr><tr><th>13</th><td>BRIN3</td><td>2015-11-19</td><td>0.005405405405405482</td></tr><tr><th>14</th><td>BRIN3</td><td>2015-11-23</td><td>0.050626020685900906</td></tr><tr><th>15</th><td>BRIN3</td><td>2015-11-24</td><td>-0.005612244897959335</td></tr><tr><th>16</th><td>BRIN3</td><td>2015-11-25</td><td>0.07510288065843607</td></tr><tr><th>17</th><td>BRIN3</td><td>2015-11-26</td><td>-0.021377672209026095</td></tr><tr><th>18</th><td>BRIN3</td><td>2015-11-27</td><td>0.0029732408325073697</td></tr><tr><th>19</th><td>BRIN3</td><td>2015-11-30</td><td>0.0</td></tr><tr><th>20</th><td>BRKM5</td><td>2015-11-03</td><td>-0.011499540018399266</td></tr><tr><th>21</th><td>BRKM5</td><td>2015-11-04</td><td>0.0</td></tr><tr><th>22</th><td>BRKM5</td><td>2015-11-05</td><td>0.005069124423963107</td></tr><tr><th>23</th><td>BRKM5</td><td>2015-11-06</td><td>0.01970669110907423</td></tr><tr><th>24</th><td>BRKM5</td><td>2015-11-09</td><td>0.002695417789757355</td></tr><tr><th>25</th><td>BRKM5</td><td>2015-11-10</td><td>-0.015124555160142342</td></tr><tr><th>26</th><td>BRKM5</td><td>2015-11-11</td><td>0.07269422989550194</td></tr><tr><th>27</th><td>BRKM5</td><td>2015-11-12</td><td>-0.00465313028764803</td></tr><tr><th>28</th><td>BRKM5</td><td>2015-11-13</td><td>-0.005543710021321919</td></tr><tr><th>29</th><td>BRKM5</td><td>2015-11-16</td><td>0.014925373134328419</td></tr><tr><th>30</th><td>BRKM5</td><td>2015-11-17</td><td>0.04490644490644483</td></tr><tr><th>&vellip;</th><td>&vellip;</td><td>&vellip;</td><td>&vellip;</td></tr></table>"
      ],
      "text/plain": [
       "190x3 DataFrames.DataFrame\n",
       "| Row | CODNEG  | DATE         | RET        |\n",
       "|-----|---------|--------------|------------|\n",
       "| 1   | \"BRIN3\" | \"2015-11-03\" | 0.0361446  |\n",
       "| 2   | \"BRIN3\" | \"2015-11-04\" | -0.0113636 |\n",
       "| 3   | \"BRIN3\" | \"2015-11-05\" | 0.0        |\n",
       "| 4   | \"BRIN3\" | \"2015-11-06\" | -0.0113636 |\n",
       "| 5   | \"BRIN3\" | \"2015-11-09\" | 0.0588235  |\n",
       "| 6   | \"BRIN3\" | \"2015-11-10\" | -0.0111111 |\n",
       "| 7   | \"BRIN3\" | \"2015-11-11\" | 0.0222222  |\n",
       "| 8   | \"BRIN3\" | \"2015-11-12\" | 0.0        |\n",
       "| 9   | \"BRIN3\" | \"2015-11-13\" | 0.0543478  |\n",
       "| 10  | \"BRIN3\" | \"2015-11-16\" | -0.03125   |\n",
       "| 11  | \"BRIN3\" | \"2015-11-17\" | -0.0217391 |\n",
       "⋮\n",
       "| 179 | \"VIVR3\" | \"2015-11-12\" | -0.25      |\n",
       "| 180 | \"VIVR3\" | \"2015-11-13\" | 0.333333   |\n",
       "| 181 | \"VIVR3\" | \"2015-11-16\" | 0.0        |\n",
       "| 182 | \"VIVR3\" | \"2015-11-17\" | -0.333333  |\n",
       "| 183 | \"VIVR3\" | \"2015-11-18\" | 0.0        |\n",
       "| 184 | \"VIVR3\" | \"2015-11-19\" | 0.0        |\n",
       "| 185 | \"VIVR3\" | \"2015-11-23\" | 0.0        |\n",
       "| 186 | \"VIVR3\" | \"2015-11-24\" | -0.333333  |\n",
       "| 187 | \"VIVR3\" | \"2015-11-25\" | 0.0        |\n",
       "| 188 | \"VIVR3\" | \"2015-11-26\" | 0.0        |\n",
       "| 189 | \"VIVR3\" | \"2015-11-27\" | 0.0        |\n",
       "| 190 | \"VIVR3\" | \"2015-11-30\" | 0.5        |"
      ]
     },
     "execution_count": 53,
     "metadata": {},
     "output_type": "execute_result"
    }
   ],
   "source": [
    "top10 = rdf[1:10,:][:CODNEG]\n",
    "filterTop10 = DataArray{Bool, 1}(map(x -> x in top10, ret[:CODNEG]))\n",
    "maxreturndf = ret[filterTop10, :]\n",
    "save(maxreturndf, \"maxreturn\")"
   ]
  }
 ],
 "metadata": {
  "kernelspec": {
   "display_name": "Julia 0.4.1",
   "language": "julia",
   "name": "julia-0.4"
  },
  "language_info": {
   "file_extension": ".jl",
   "mimetype": "application/julia",
   "name": "julia",
   "version": "0.4.1"
  }
 },
 "nbformat": 4,
 "nbformat_minor": 0
}
