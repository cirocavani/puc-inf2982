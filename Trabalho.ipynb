{
 "cells": [
  {
   "cell_type": "markdown",
   "metadata": {},
   "source": [
    "INF2982 - Aplicações, Modelos e Métodos\n",
    "\n",
    "Prof. Thibaut Vidal\n",
    "\n",
    "2015-2\n",
    "\n",
    "Ciro Cavani\n",
    "\n",
    "02/12/2015"
   ]
  },
  {
   "cell_type": "markdown",
   "metadata": {},
   "source": [
    "Paper:\n",
    "\n",
    "**Simulated annealing for complex portfolio selection problems**\n",
    "\n",
    "http://citeseerx.ist.psu.edu/viewdoc/summary?doi=10.1.1.97.6091\n",
    "\n",
    "*This paper describes the application of a simulated annealing approach to the solution of a complex portfolio selection model. The model is a mixed integer quadratic programming problem which arises when Markowitz’ classical mean–variance model is enriched with additional realistic constraints. Exact optimization algorithms run into difficulties in this framework and this motivates the investigation of heuristic techniques. Computational experiments indicate that the approach is promising for this class of problems.*"
   ]
  }
 ],
 "metadata": {
  "kernelspec": {
   "display_name": "Julia 0.4.0",
   "language": "julia",
   "name": "julia-0.4"
  },
  "language_info": {
   "file_extension": ".jl",
   "mimetype": "application/julia",
   "name": "julia",
   "version": "0.4.0"
  }
 },
 "nbformat": 4,
 "nbformat_minor": 0
}
